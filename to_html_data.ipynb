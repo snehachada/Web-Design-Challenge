{
 "cells": [
  {
   "cell_type": "code",
   "execution_count": 1,
   "source": [
    "import pandas as pd"
   ],
   "outputs": [],
   "metadata": {}
  },
  {
   "cell_type": "code",
   "execution_count": 2,
   "source": [
    "# Study data files\r\n",
    "cities_data_path = \"Resources/cities.csv\""
   ],
   "outputs": [],
   "metadata": {}
  },
  {
   "cell_type": "code",
   "execution_count": 3,
   "source": [
    "# Read the mouse data and the study results\r\n",
    "cities_df= pd.read_csv(cities_data_path)\r\n",
    "\r\n",
    "cities_df= cities_df[['City_ID', 'City', 'Country', 'Cloudiness', 'Humidity', 'Wind Speed', 'Max Temp', 'Lat', 'Lng']]\r\n",
    "cities_df.head(3)\r\n",
    "\r\n",
    "cities=cities_df.set_index(\"City_ID\")\r\n",
    "cities.head(3)"
   ],
   "outputs": [
    {
     "output_type": "execute_result",
     "data": {
      "text/plain": [
       "                 City Country  Cloudiness  Humidity  Wind Speed  Max Temp  \\\n",
       "City_ID                                                                     \n",
       "0        jacareacanga      BR           0        62        6.93     89.60   \n",
       "1          kaitangata      NZ         100        94        5.64     42.61   \n",
       "2            goulburn      AU          20        91       10.11     44.32   \n",
       "\n",
       "           Lat     Lng  \n",
       "City_ID                 \n",
       "0        -6.22  -57.76  \n",
       "1       -46.28  169.85  \n",
       "2       -34.75  149.72  "
      ],
      "text/html": [
       "<div>\n",
       "<style scoped>\n",
       "    .dataframe tbody tr th:only-of-type {\n",
       "        vertical-align: middle;\n",
       "    }\n",
       "\n",
       "    .dataframe tbody tr th {\n",
       "        vertical-align: top;\n",
       "    }\n",
       "\n",
       "    .dataframe thead th {\n",
       "        text-align: right;\n",
       "    }\n",
       "</style>\n",
       "<table border=\"1\" class=\"dataframe\">\n",
       "  <thead>\n",
       "    <tr style=\"text-align: right;\">\n",
       "      <th></th>\n",
       "      <th>City</th>\n",
       "      <th>Country</th>\n",
       "      <th>Cloudiness</th>\n",
       "      <th>Humidity</th>\n",
       "      <th>Wind Speed</th>\n",
       "      <th>Max Temp</th>\n",
       "      <th>Lat</th>\n",
       "      <th>Lng</th>\n",
       "    </tr>\n",
       "    <tr>\n",
       "      <th>City_ID</th>\n",
       "      <th></th>\n",
       "      <th></th>\n",
       "      <th></th>\n",
       "      <th></th>\n",
       "      <th></th>\n",
       "      <th></th>\n",
       "      <th></th>\n",
       "      <th></th>\n",
       "    </tr>\n",
       "  </thead>\n",
       "  <tbody>\n",
       "    <tr>\n",
       "      <th>0</th>\n",
       "      <td>jacareacanga</td>\n",
       "      <td>BR</td>\n",
       "      <td>0</td>\n",
       "      <td>62</td>\n",
       "      <td>6.93</td>\n",
       "      <td>89.60</td>\n",
       "      <td>-6.22</td>\n",
       "      <td>-57.76</td>\n",
       "    </tr>\n",
       "    <tr>\n",
       "      <th>1</th>\n",
       "      <td>kaitangata</td>\n",
       "      <td>NZ</td>\n",
       "      <td>100</td>\n",
       "      <td>94</td>\n",
       "      <td>5.64</td>\n",
       "      <td>42.61</td>\n",
       "      <td>-46.28</td>\n",
       "      <td>169.85</td>\n",
       "    </tr>\n",
       "    <tr>\n",
       "      <th>2</th>\n",
       "      <td>goulburn</td>\n",
       "      <td>AU</td>\n",
       "      <td>20</td>\n",
       "      <td>91</td>\n",
       "      <td>10.11</td>\n",
       "      <td>44.32</td>\n",
       "      <td>-34.75</td>\n",
       "      <td>149.72</td>\n",
       "    </tr>\n",
       "  </tbody>\n",
       "</table>\n",
       "</div>"
      ]
     },
     "metadata": {},
     "execution_count": 3
    }
   ],
   "metadata": {}
  },
  {
   "cell_type": "code",
   "execution_count": 4,
   "source": [
    "cities.to_html('cities_data.html')"
   ],
   "outputs": [],
   "metadata": {}
  },
  {
   "cell_type": "code",
   "execution_count": null,
   "source": [],
   "outputs": [],
   "metadata": {}
  }
 ],
 "metadata": {
  "orig_nbformat": 4,
  "language_info": {
   "name": "python",
   "version": "3.8.8",
   "mimetype": "text/x-python",
   "codemirror_mode": {
    "name": "ipython",
    "version": 3
   },
   "pygments_lexer": "ipython3",
   "nbconvert_exporter": "python",
   "file_extension": ".py"
  },
  "kernelspec": {
   "name": "python3",
   "display_name": "Python 3.8.8 64-bit ('base': conda)"
  },
  "interpreter": {
   "hash": "cc10a2f51117c218bb6189c5507053903e423e1d57da8fd129e035496f75f741"
  }
 },
 "nbformat": 4,
 "nbformat_minor": 2
}